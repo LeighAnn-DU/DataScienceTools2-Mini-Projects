{
 "cells": [
  {
   "cell_type": "markdown",
   "id": "06383b4b",
   "metadata": {},
   "source": [
    "# How accurately can a math score be predicted?"
   ]
  },
  {
   "cell_type": "code",
   "execution_count": 1,
   "id": "93b69135",
   "metadata": {},
   "outputs": [],
   "source": [
    "import numpy as np\n",
    "import pandas as pd\n",
    "import statsmodels.api as sm\n",
    "import plotly.express as px\n",
    "\n",
    "from sklearn.linear_model import SGDRegressor, LinearRegression, Lasso, Ridge\n",
    "from sklearn.model_selection import GridSearchCV, train_test_split\n",
    "from sklearn import metrics\n",
    "from sklearn.preprocessing import StandardScaler"
   ]
  },
  {
   "cell_type": "code",
   "execution_count": 2,
   "id": "e57130b4",
   "metadata": {},
   "outputs": [
    {
     "data": {
      "text/plain": [
       "students       0\n",
       "teachers       0\n",
       "calworks       0\n",
       "lunch          0\n",
       "computer       0\n",
       "expenditure    0\n",
       "income         0\n",
       "english        0\n",
       "read           0\n",
       "math           0\n",
       "dtype: int64"
      ]
     },
     "execution_count": 2,
     "metadata": {},
     "output_type": "execute_result"
    }
   ],
   "source": [
    "scoreData = pd.read_csv(\"https://vincentarelbundock.github.io/Rdatasets/csv/AER/CASchools.csv\")\n",
    "scoreData = scoreData.iloc[:, 5:]\n",
    "scoreData.isnull().sum()"
   ]
  },
  {
   "cell_type": "markdown",
   "id": "a6687792",
   "metadata": {},
   "source": [
    "# Data Pre-Processing"
   ]
  },
  {
   "cell_type": "code",
   "execution_count": 3,
   "id": "a34ba42a",
   "metadata": {},
   "outputs": [
    {
     "data": {
      "text/html": [
       "<div>\n",
       "<style scoped>\n",
       "    .dataframe tbody tr th:only-of-type {\n",
       "        vertical-align: middle;\n",
       "    }\n",
       "\n",
       "    .dataframe tbody tr th {\n",
       "        vertical-align: top;\n",
       "    }\n",
       "\n",
       "    .dataframe thead th {\n",
       "        text-align: right;\n",
       "    }\n",
       "</style>\n",
       "<table border=\"1\" class=\"dataframe\">\n",
       "  <thead>\n",
       "    <tr style=\"text-align: right;\">\n",
       "      <th></th>\n",
       "      <th>students</th>\n",
       "      <th>teachers</th>\n",
       "      <th>lunch</th>\n",
       "      <th>computer</th>\n",
       "      <th>expenditure</th>\n",
       "      <th>income</th>\n",
       "      <th>english</th>\n",
       "      <th>read</th>\n",
       "    </tr>\n",
       "  </thead>\n",
       "  <tbody>\n",
       "    <tr>\n",
       "      <th>0</th>\n",
       "      <td>-0.622701</td>\n",
       "      <td>-0.629592</td>\n",
       "      <td>-1.574852</td>\n",
       "      <td>-0.536241</td>\n",
       "      <td>1.693832</td>\n",
       "      <td>1.021633</td>\n",
       "      <td>-0.863339</td>\n",
       "      <td>1.823812</td>\n",
       "    </tr>\n",
       "    <tr>\n",
       "      <th>1</th>\n",
       "      <td>-0.611188</td>\n",
       "      <td>-0.628260</td>\n",
       "      <td>0.118543</td>\n",
       "      <td>-0.459111</td>\n",
       "      <td>-0.336438</td>\n",
       "      <td>-0.761033</td>\n",
       "      <td>-0.612392</td>\n",
       "      <td>0.275319</td>\n",
       "    </tr>\n",
       "    <tr>\n",
       "      <th>2</th>\n",
       "      <td>-0.276016</td>\n",
       "      <td>-0.245978</td>\n",
       "      <td>1.167077</td>\n",
       "      <td>-0.304852</td>\n",
       "      <td>0.299356</td>\n",
       "      <td>-0.878251</td>\n",
       "      <td>0.779223</td>\n",
       "      <td>-0.929619</td>\n",
       "    </tr>\n",
       "    <tr>\n",
       "      <th>3</th>\n",
       "      <td>-0.610420</td>\n",
       "      <td>-0.613075</td>\n",
       "      <td>1.193898</td>\n",
       "      <td>-0.495407</td>\n",
       "      <td>2.826081</td>\n",
       "      <td>-0.878251</td>\n",
       "      <td>-0.863339</td>\n",
       "      <td>-0.152880</td>\n",
       "    </tr>\n",
       "    <tr>\n",
       "      <th>4</th>\n",
       "      <td>-0.331025</td>\n",
       "      <td>-0.306717</td>\n",
       "      <td>1.244756</td>\n",
       "      <td>-0.300315</td>\n",
       "      <td>-0.120692</td>\n",
       "      <td>-0.864073</td>\n",
       "      <td>-0.104603</td>\n",
       "      <td>-0.655769</td>\n",
       "    </tr>\n",
       "    <tr>\n",
       "      <th>...</th>\n",
       "      <td>...</td>\n",
       "      <td>...</td>\n",
       "      <td>...</td>\n",
       "      <td>...</td>\n",
       "      <td>...</td>\n",
       "      <td>...</td>\n",
       "      <td>...</td>\n",
       "      <td>...</td>\n",
       "    </tr>\n",
       "    <tr>\n",
       "      <th>415</th>\n",
       "      <td>-0.420831</td>\n",
       "      <td>-0.369427</td>\n",
       "      <td>-1.518889</td>\n",
       "      <td>-0.245870</td>\n",
       "      <td>3.123796</td>\n",
       "      <td>1.856711</td>\n",
       "      <td>-0.535049</td>\n",
       "      <td>2.286869</td>\n",
       "    </tr>\n",
       "    <tr>\n",
       "      <th>416</th>\n",
       "      <td>0.280216</td>\n",
       "      <td>0.423108</td>\n",
       "      <td>-1.594674</td>\n",
       "      <td>0.947373</td>\n",
       "      <td>0.677618</td>\n",
       "      <td>3.660314</td>\n",
       "      <td>-0.604575</td>\n",
       "      <td>2.441220</td>\n",
       "    </tr>\n",
       "    <tr>\n",
       "      <th>417</th>\n",
       "      <td>-0.559761</td>\n",
       "      <td>-0.580308</td>\n",
       "      <td>-0.277266</td>\n",
       "      <td>-0.586148</td>\n",
       "      <td>-1.436516</td>\n",
       "      <td>1.166147</td>\n",
       "      <td>0.465113</td>\n",
       "      <td>-0.332129</td>\n",
       "    </tr>\n",
       "    <tr>\n",
       "      <th>418</th>\n",
       "      <td>-0.646752</td>\n",
       "      <td>-0.661027</td>\n",
       "      <td>0.542639</td>\n",
       "      <td>-0.656473</td>\n",
       "      <td>-0.846630</td>\n",
       "      <td>-0.743298</td>\n",
       "      <td>-0.700709</td>\n",
       "      <td>0.643773</td>\n",
       "    </tr>\n",
       "    <tr>\n",
       "      <th>419</th>\n",
       "      <td>-0.217681</td>\n",
       "      <td>-0.190035</td>\n",
       "      <td>0.105790</td>\n",
       "      <td>0.021816</td>\n",
       "      <td>1.075497</td>\n",
       "      <td>-0.389979</td>\n",
       "      <td>-0.589271</td>\n",
       "      <td>0.275319</td>\n",
       "    </tr>\n",
       "  </tbody>\n",
       "</table>\n",
       "<p>420 rows × 8 columns</p>\n",
       "</div>"
      ],
      "text/plain": [
       "     students  teachers     lunch  computer  expenditure    income   english  \\\n",
       "0   -0.622701 -0.629592 -1.574852 -0.536241     1.693832  1.021633 -0.863339   \n",
       "1   -0.611188 -0.628260  0.118543 -0.459111    -0.336438 -0.761033 -0.612392   \n",
       "2   -0.276016 -0.245978  1.167077 -0.304852     0.299356 -0.878251  0.779223   \n",
       "3   -0.610420 -0.613075  1.193898 -0.495407     2.826081 -0.878251 -0.863339   \n",
       "4   -0.331025 -0.306717  1.244756 -0.300315    -0.120692 -0.864073 -0.104603   \n",
       "..        ...       ...       ...       ...          ...       ...       ...   \n",
       "415 -0.420831 -0.369427 -1.518889 -0.245870     3.123796  1.856711 -0.535049   \n",
       "416  0.280216  0.423108 -1.594674  0.947373     0.677618  3.660314 -0.604575   \n",
       "417 -0.559761 -0.580308 -0.277266 -0.586148    -1.436516  1.166147  0.465113   \n",
       "418 -0.646752 -0.661027  0.542639 -0.656473    -0.846630 -0.743298 -0.700709   \n",
       "419 -0.217681 -0.190035  0.105790  0.021816     1.075497 -0.389979 -0.589271   \n",
       "\n",
       "         read  \n",
       "0    1.823812  \n",
       "1    0.275319  \n",
       "2   -0.929619  \n",
       "3   -0.152880  \n",
       "4   -0.655769  \n",
       "..        ...  \n",
       "415  2.286869  \n",
       "416  2.441220  \n",
       "417 -0.332129  \n",
       "418  0.643773  \n",
       "419  0.275319  \n",
       "\n",
       "[420 rows x 8 columns]"
      ]
     },
     "execution_count": 3,
     "metadata": {},
     "output_type": "execute_result"
    }
   ],
   "source": [
    "scoreDataSC = pd.DataFrame(StandardScaler().fit_transform(scoreData.drop([\"calworks\", \"math\"], \n",
    "                                                                         axis=1)), \n",
    "                           columns = scoreData.drop([\"calworks\", \"math\"], axis=1).columns)\n",
    "                                                                         \n",
    "scoreDataSC"
   ]
  },
  {
   "cell_type": "markdown",
   "id": "57fdcccc",
   "metadata": {},
   "source": [
    "# Data Splitting"
   ]
  },
  {
   "cell_type": "code",
   "execution_count": 4,
   "id": "b8ee856c",
   "metadata": {},
   "outputs": [
    {
     "name": "stdout",
     "output_type": "stream",
     "text": [
      "(336, 8)\n",
      "(84, 8)\n",
      "(336,)\n",
      "(84,)\n"
     ]
    }
   ],
   "source": [
    "X_train, X_test, y_train, y_test = train_test_split(scoreDataSC, scoreData[\"math\"], \n",
    "                                                    test_size = .2)\n",
    "print(X_train.shape)\n",
    "print(X_test.shape)\n",
    "print(y_train.shape)\n",
    "print(y_test.shape)"
   ]
  },
  {
   "cell_type": "markdown",
   "id": "e39bad2e",
   "metadata": {},
   "source": [
    "# Model Building and Evaluation"
   ]
  },
  {
   "cell_type": "code",
   "execution_count": 5,
   "id": "b8b97177",
   "metadata": {},
   "outputs": [
    {
     "name": "stdout",
     "output_type": "stream",
     "text": [
      "Training:  47.363763084793014\n",
      "Testing:  42.108884205375205\n"
     ]
    }
   ],
   "source": [
    "lr = LinearRegression()\n",
    "lr.fit(X_train, y_train)\n",
    "y_pred_train = lr.predict(X_train)\n",
    "y_pred_test = lr.predict(X_test)\n",
    "\n",
    "print(\"Training: \", metrics.mean_squared_error(y_train, y_pred_train))\n",
    "print(\"Testing: \", metrics.mean_squared_error(y_test, y_pred_test))"
   ]
  },
  {
   "cell_type": "markdown",
   "id": "21d1ef2c",
   "metadata": {},
   "source": [
    "#### Using the MSE above, there is no evidence of overfitting.  The testing data has less error than the training data.  There might be some underfitting, but we need to tune the hyperparameters to see if we can address this.  There is definitely underfitting, but the question is can a linear model address it.  After tuning the parameters, we can be more sure that a linear model might not be as good as other models like decision trees, random forests, etc.  If I took the square root of each of those figures, I can see that the model predicts the math score between 6 and 7 points."
   ]
  },
  {
   "cell_type": "code",
   "execution_count": 6,
   "id": "fe99d7db",
   "metadata": {},
   "outputs": [
    {
     "name": "stdout",
     "output_type": "stream",
     "text": [
      "Training:  52.02357621210231\n",
      "Testing:  47.90628245791123\n"
     ]
    }
   ],
   "source": [
    "lasso = Lasso()\n",
    "lasso.fit(X_train, y_train)\n",
    "y_pred_train = lasso.predict(X_train)\n",
    "y_pred_test = lasso.predict(X_test)\n",
    "\n",
    "print(\"Training: \", metrics.mean_squared_error(y_train, y_pred_train))\n",
    "print(\"Testing: \", metrics.mean_squared_error(y_test, y_pred_test))"
   ]
  },
  {
   "cell_type": "code",
   "execution_count": 7,
   "id": "f1ed6185",
   "metadata": {},
   "outputs": [
    {
     "name": "stdout",
     "output_type": "stream",
     "text": [
      "Training:  47.37948104938662\n",
      "Testing:  42.34883857366002\n"
     ]
    }
   ],
   "source": [
    "ridge = Ridge()\n",
    "ridge.fit(X_train, y_train)\n",
    "y_pred_train = ridge.predict(X_train)\n",
    "y_pred_test = ridge.predict(X_test)\n",
    "\n",
    "print(\"Training: \", metrics.mean_squared_error(y_train, y_pred_train))\n",
    "print(\"Testing: \", metrics.mean_squared_error(y_test, y_pred_test))"
   ]
  },
  {
   "cell_type": "markdown",
   "id": "d68bf78f",
   "metadata": {},
   "source": [
    "#### Comparing the OLS, Lasso, and Ridge regressions above, it appears that the Lasso did the worst.  The MSE scores for the OLS and the Ridge were quite similar/close, with the OLS doing just slightly better."
   ]
  },
  {
   "cell_type": "code",
   "execution_count": 8,
   "id": "8564aa5c",
   "metadata": {},
   "outputs": [
    {
     "data": {
      "text/plain": [
       "{'alpha': 1.0,\n",
       " 'copy_X': True,\n",
       " 'fit_intercept': True,\n",
       " 'max_iter': 1000,\n",
       " 'normalize': False,\n",
       " 'positive': False,\n",
       " 'precompute': False,\n",
       " 'random_state': None,\n",
       " 'selection': 'cyclic',\n",
       " 'tol': 0.0001,\n",
       " 'warm_start': False}"
      ]
     },
     "execution_count": 8,
     "metadata": {},
     "output_type": "execute_result"
    }
   ],
   "source": [
    "Lasso().get_params()"
   ]
  },
  {
   "cell_type": "code",
   "execution_count": 9,
   "id": "ca1dc054",
   "metadata": {},
   "outputs": [
    {
     "name": "stdout",
     "output_type": "stream",
     "text": [
      "Best Parameters:  {'alpha': 0.06999999999999999, 'max_iter': 1000, 'random_state': 42}\n",
      "Train MSE:  -47.43920955977542\n",
      "Test MSE:  -42.47366631255777\n"
     ]
    }
   ],
   "source": [
    "param_grid = {\"alpha\": np.arange(0.01, 1, .01),            \n",
    "              \"max_iter\": [1000, 5000, 10000, 100000, 1000000],\n",
    "             \"random_state\": [42],\n",
    "             }\n",
    "\n",
    "gs = GridSearchCV(estimator = lasso, param_grid = param_grid, \n",
    "                  scoring = \"neg_mean_squared_error\", cv=5)\n",
    "\n",
    "gs.fit(X_train, y_train)\n",
    "\n",
    "print(\"Best Parameters: \", gs.best_params_)\n",
    "print(\"Train MSE: \", gs.score(X_train, y_train))\n",
    "print(\"Test MSE: \", gs.score(X_test, y_test))"
   ]
  },
  {
   "cell_type": "code",
   "execution_count": 10,
   "id": "943788d9",
   "metadata": {},
   "outputs": [
    {
     "name": "stdout",
     "output_type": "stream",
     "text": [
      "Training:  47.41862340236622\n",
      "Testing:  42.382394821042894\n"
     ]
    }
   ],
   "source": [
    "lasso2 = Lasso(alpha=0.05, random_state = 42)\n",
    "lasso2.fit(X_train, y_train)\n",
    "y_pred_train = lasso2.predict(X_train)\n",
    "y_pred_test = lasso2.predict(X_test)\n",
    "\n",
    "print(\"Training: \", metrics.mean_squared_error(y_train, y_pred_train))\n",
    "print(\"Testing: \", metrics.mean_squared_error(y_test, y_pred_test))"
   ]
  },
  {
   "cell_type": "code",
   "execution_count": 11,
   "id": "380c4b08",
   "metadata": {},
   "outputs": [
    {
     "data": {
      "text/plain": [
       "{'alpha': 1.0,\n",
       " 'copy_X': True,\n",
       " 'fit_intercept': True,\n",
       " 'max_iter': None,\n",
       " 'normalize': False,\n",
       " 'random_state': None,\n",
       " 'solver': 'auto',\n",
       " 'tol': 0.001}"
      ]
     },
     "execution_count": 11,
     "metadata": {},
     "output_type": "execute_result"
    }
   ],
   "source": [
    "Ridge().get_params()"
   ]
  },
  {
   "cell_type": "code",
   "execution_count": 12,
   "id": "b0187fe2",
   "metadata": {},
   "outputs": [
    {
     "name": "stdout",
     "output_type": "stream",
     "text": [
      "Best Parameters:  {'alpha': 1, 'max_iter': 100, 'random_state': 42}\n",
      "Train MSE:  -47.37948104938662\n",
      "Test MSE:  -42.34883857366002\n"
     ]
    }
   ],
   "source": [
    "param_grid = {\"alpha\": [0.001, 0.01, 0.1, 1, 10, 100, 1000],            \n",
    "              \"max_iter\": [100, 500, 1000, 5000, 10000],\n",
    "             \"random_state\": [42],\n",
    "             }\n",
    "\n",
    "gs = GridSearchCV(estimator = ridge, param_grid = param_grid, \n",
    "                  scoring = \"neg_mean_squared_error\", cv=5)\n",
    "\n",
    "gs.fit(X_train, y_train)\n",
    "\n",
    "print(\"Best Parameters: \", gs.best_params_)\n",
    "print(\"Train MSE: \", gs.score(X_train, y_train))\n",
    "print(\"Test MSE: \", gs.score(X_test, y_test))"
   ]
  },
  {
   "cell_type": "code",
   "execution_count": 13,
   "id": "c5c5bf4e",
   "metadata": {},
   "outputs": [
    {
     "name": "stdout",
     "output_type": "stream",
     "text": [
      "Training:  47.37948104938662\n",
      "Testing:  42.34883857366002\n"
     ]
    }
   ],
   "source": [
    "ridge2 = Ridge(alpha=1, random_state=42, max_iter = 100)\n",
    "ridge2.fit(X_train, y_train)\n",
    "y_pred_train = ridge2.predict(X_train)\n",
    "y_pred_test = ridge2.predict(X_test)\n",
    "\n",
    "print(\"Training: \", metrics.mean_squared_error(y_train, y_pred_train))\n",
    "print(\"Testing: \", metrics.mean_squared_error(y_test, y_pred_test))"
   ]
  },
  {
   "cell_type": "markdown",
   "id": "82abdf05",
   "metadata": {},
   "source": [
    "### The Lasso and Ridge regressions were tuned.  The hyperparameters selected are noted above.  A variety of alpha values were tested.  In the end, the best alpha for the lasso was 0.05, and the best alpha for the ridge was 1.  The default alpha value for lasso is 1.0, and the default alpha value for ridge is also 1.0, which turned out to be the best."
   ]
  },
  {
   "cell_type": "code",
   "execution_count": null,
   "id": "1e1fe3d6",
   "metadata": {},
   "outputs": [],
   "source": []
  }
 ],
 "metadata": {
  "kernelspec": {
   "display_name": "Python 3 (ipykernel)",
   "language": "python",
   "name": "python3"
  },
  "language_info": {
   "codemirror_mode": {
    "name": "ipython",
    "version": 3
   },
   "file_extension": ".py",
   "mimetype": "text/x-python",
   "name": "python",
   "nbconvert_exporter": "python",
   "pygments_lexer": "ipython3",
   "version": "3.9.6"
  }
 },
 "nbformat": 4,
 "nbformat_minor": 5
}
